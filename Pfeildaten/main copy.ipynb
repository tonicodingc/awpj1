{
 "cells": [
  {
   "cell_type": "code",
   "execution_count": 123,
   "metadata": {},
   "outputs": [],
   "source": [
    "import pandas as pd\n",
    "import numpy as np\n",
    "import matplotlib.pyplot as plt"
   ]
  },
  {
   "cell_type": "markdown",
   "metadata": {},
   "source": [
    "### &#11088; Visualisierung der Daten"
   ]
  },
  {
   "cell_type": "markdown",
   "metadata": {},
   "source": [
    "### &#11088; Funktionen für die Visualisierung und Plotting"
   ]
  },
  {
   "cell_type": "code",
   "execution_count": 124,
   "metadata": {},
   "outputs": [],
   "source": [
    "def Datensatz(CSVdatei):\n",
    "    data = pd.read_csv(CSVdatei, delimiter= \";\")\n",
    "    return data\n",
    "    "
   ]
  },
  {
   "cell_type": "markdown",
   "metadata": {},
   "source": [
    "**Ringe** \n",
    "\n",
    "Die Funktion Ringe macht es, dass ein Datensatz eingelesen wird und dann ein Pie Chart ausgibt, welcher anzeigt welcher Ring am öftesten getroffen wurde."
   ]
  },
  {
   "cell_type": "code",
   "execution_count": 125,
   "metadata": {},
   "outputs": [],
   "source": [
    "def Ringe(Datensatz):\n",
    "    try:\n",
    "        Ring= Datensatz[\"Ringe\"].value_counts()\n",
    "    except: \n",
    "        print (\"Dataframe ist kein Arrow Dataframe oder hat keine Spalte namens 'Ringe'\")\n",
    "    return Ring.plot.pie(figsize= (3,3), ylabel = \"Treffer\", xlabel = \"\",legend= True)"
   ]
  },
  {
   "cell_type": "markdown",
   "metadata": {},
   "source": [
    "**Zielscheibe**\n",
    "\n",
    "Die Funktion Zielscheibe macht es, dass ein Datensatz eingelesen wird und dann ein Scatterplot erstellt wird. \n",
    "Das besondere an der Funktion ist, dass der Plot auch anzeigt wo genau der Pfeil, in der Zielscheibe getroffen hat."
   ]
  },
  {
   "cell_type": "code",
   "execution_count": 126,
   "metadata": {},
   "outputs": [],
   "source": [
    "def Zielscheibe (Datensatz):\n",
    "        if Datensatz[\"Typ Auflage\"].max() == 122:\n",
    "\n",
    "            Plot = Datensatz.plot.scatter(x = \"x\", y = \"y\", figsize= (4, 3), s= 2, xlabel='Link-/Rechtsfehler', ylabel='Vertikale Fehler', colormap= \"Blues\", legend = True, color= Datensatz[\"Passe\"], xlim= (-280,280), ylim= (-280,280), zorder = 6)\n",
    "            \n",
    "            c11 = plt.Circle((0,0), 61, alpha = 0.5, color = 'yellow', zorder = 5)         # 10 Punkte\n",
    "            c12 = plt.Circle((0,0), 118, alpha = 0.7, color = 'yellow', zorder = 4)        # 9 Punkte\n",
    "            c13 = plt.Circle((0,0), 162, alpha = 0.3, color = 'red', zorder = 3)           # 8 Punkte\n",
    "            c14 = plt.Circle((0,0), 217, alpha = 0.6, color = 'red', zorder = 2)           # 7 Punkte\n",
    "            c15 = plt.Circle((0,0), 268, alpha = 1.0, color = 'lightblue', zorder = 1)     # 6 Punkte\n",
    "\n",
    "            for l in [c11, c12, c13, c14, c15]:\n",
    "                Plot.add_patch(l)\n",
    "        \n",
    "        elif Datensatz[\"Typ Auflage\"].max() == 40:\n",
    "\n",
    "            Plot= Datensatz.plot.scatter(x = \"x\", y = \"y\", figsize= (4, 3), s= 2,xlabel='Link-/Rechtsfehler', ylabel='Vertikale Fehler', colormap= \"Blues\", legend = True, color= Datensatz[\"Passe\"], xlim= (-140,140), ylim= (-140,140), zorder = 8) \n",
    "\n",
    "            c31 = plt.Circle((0,0), 21, alpha = 0.5, color = 'yellow', zorder = 7)     # 10 Punkte       \n",
    "            c32 = plt.Circle((0,0), 41, alpha = 0.7, color = 'yellow', zorder = 6)     # 9 Punkte\n",
    "            c33 = plt.Circle((0,0), 59, alpha = 0.3, color = 'red', zorder = 5)        # 8 Punkte\n",
    "            c34 = plt.Circle((0,0), 73, alpha = 0.6, color = 'red', zorder = 4)        # 7 Punkte\n",
    "            c35 = plt.Circle((0,0), 91, alpha = 1.0, color = 'lightblue', zorder = 3)  # 6 Punkte\n",
    "            c36 = plt.Circle((0,0), 118, alpha = 0.9, color = 'lightblue', zorder = 2) # 5 Punkte\n",
    "            c37 = plt.Circle((0,0), 137, alpha = 0.8, color = 'black', zorder = 1)     # 4 Punkte\n",
    "\n",
    "            for l in [c31, c32, c33, c34, c35, c36, c37]:\n",
    "                Plot.add_patch(l)\n",
    "        \n",
    "        else: print (\"Der Datensatz erhält keine Standardwerte für Typauflage\")\n",
    "        return Plot\n"
   ]
  },
  {
   "cell_type": "markdown",
   "metadata": {},
   "source": [
    "**Treffer vergleiche zur Passe**\n",
    "\n",
    "Soll zeigen ob es eine Rolle spiel wie lange man schon spielt. Das macht die Funktion indem Sie Passe und Treffer in mehrere Graphen steckt kommt drauf an wie viele spiele man schon gespielt hat."
   ]
  },
  {
   "cell_type": "code",
   "execution_count": 127,
   "metadata": {},
   "outputs": [],
   "source": [
    "def Trefferpassequote(a1= 0, a2= 0 , a3= 0 , a4= 0 ):\n",
    "\n",
    "    try:\n",
    "        Ringe1 = a1[\"Ringe\"]\n",
    "\n",
    "        Ringe2 = a2[\"Ringe\"]\n",
    "\n",
    "        Ringe3 = a3[\"Ringe\"]\n",
    "\n",
    "        Ringe4 = a4[\"Ringe\"]\n",
    "\n",
    "        fig, (ax, ax2, ax3, ax4) = plt.subplots(nrows=4, figsize = (5,5), sharex= True,sharey= True)\n",
    "\n",
    "        ax.plot(Ringe1, color = \"red\")\n",
    "        ax2.plot(Ringe2, color = \"lightblue\")\n",
    "        ax3.plot(Ringe3, color = \"black\")\n",
    "        ax4.plot(Ringe4, color = \"purple\")\n",
    "        ax4.set_xlabel(\"Passe\")\n",
    "        ax3.set_ylabel(\"durchschnittliche\")\n",
    "        ax2.set_ylabel(\"Punkte\")\n",
    "      \n",
    "    except: print(\"Die Funktion braucht 4 Datensätze\")"
   ]
  },
  {
   "cell_type": "code",
   "execution_count": 128,
   "metadata": {},
   "outputs": [],
   "source": [
    "def AveragePunkteProPasse(Datensätze):\n",
    "\n",
    "    averageliste=[]\n",
    "    \n",
    "    for l in range(1,Datensätze[\"Passe\"].max()):\n",
    "\n",
    "        new = Datensätze[Datensätze[\"Passe\"] == l]\n",
    "\n",
    "        sum = 0 \n",
    "        try:\n",
    "            for i in new[\"Ringe\"]:\n",
    "                sum = sum + i\n",
    "\n",
    "            average = sum/new[\"Ringe\"].count()\n",
    "            averageliste.append(average)\n",
    "        except: \n",
    "            averageliste.append(0)\n",
    "            \n",
    "        series = pd.Series(averageliste)\n",
    "        Dataframe = pd.DataFrame({\"Ringe\": series.values})\n",
    "        \n",
    "    return Dataframe"
   ]
  },
  {
   "cell_type": "code",
   "execution_count": 129,
   "metadata": {},
   "outputs": [],
   "source": [
    "arrows1 = Datensatz(\"arrows1.csv\")\n",
    "arrows2 = Datensatz(\"arrows2.csv\")\n",
    "arrows3 = Datensatz(\"arrows3.csv\")\n",
    "arrows4 = Datensatz(\"arrows4.csv\")"
   ]
  },
  {
   "cell_type": "markdown",
   "metadata": {},
   "source": [
    "&#11088; Einsicht der Plots"
   ]
  },
  {
   "cell_type": "code",
   "execution_count": 130,
   "metadata": {},
   "outputs": [
    {
     "data": {
      "text/plain": [
       "<Axes: xlabel='Link-/Rechtsfehler', ylabel='Vertikale Fehler'>"
      ]
     },
     "execution_count": 130,
     "metadata": {},
     "output_type": "execute_result"
    },
    {
     "data": {
      "image/png": "[encoded data removed]",
      "text/plain": [
       "<Figure size 300x300 with 1 Axes>"
      ]
     },
     "metadata": {},
     "output_type": "display_data"
    },
    {
     "data": {
      "image/png": "[encoded data removed]",
      "text/plain": [
       "<Figure size 400x300 with 2 Axes>"
      ]
     },
     "metadata": {},
     "output_type": "display_data"
    }
   ],
   "source": [
    "#Vergleich erster Datensatz\n",
    "Ringe(arrows1)\n",
    "Zielscheibe(arrows1)"
   ]
  },
  {
   "cell_type": "code",
   "execution_count": null,
   "metadata": {},
   "outputs": [],
   "source": [
    "#Vergleich zweiter Datensatz\n",
    "Ringe(arrows2)\n",
    "Zielscheibe(arrows2)"
   ]
  },
  {
   "cell_type": "code",
   "execution_count": null,
   "metadata": {},
   "outputs": [],
   "source": [
    "#Vergleich dritter Datensatz\n",
    "Ringe(arrows3)\n",
    "Zielscheibe(arrows3)"
   ]
  },
  {
   "cell_type": "code",
   "execution_count": null,
   "metadata": {},
   "outputs": [],
   "source": [
    "#Vergleich vierter Datensatz\n",
    "Ringe(arrows4)\n",
    "Zielscheibe(arrows4)"
   ]
  },
  {
   "cell_type": "code",
   "execution_count": null,
   "metadata": {},
   "outputs": [],
   "source": [
    "Trefferpassequote(AveragePunkteProPasse(arrows1),AveragePunkteProPasse(arrows2),AveragePunkteProPasse(arrows3),AveragePunkteProPasse(arrows4))"
   ]
  },
  {
   "cell_type": "markdown",
   "metadata": {},
   "source": [
    "### &#11088; Interaktive Grafik"
   ]
  },
  {
   "cell_type": "code",
   "execution_count": null,
   "metadata": {},
   "outputs": [],
   "source": [
    "from ipywidgets import interact\n",
    "import ipywidgets as widgets"
   ]
  },
  {
   "cell_type": "code",
   "execution_count": null,
   "metadata": {},
   "outputs": [],
   "source": [
    "def intgraf(Data, Passe):\n",
    "\n",
    "    if Data == 1:\n",
    "        data = Datensatz(\"arrows1.csv\")\n",
    "    elif Data == 2:\n",
    "        data = Datensatz(\"arrows2.csv\")\n",
    "    elif Data == 3:\n",
    "        data = Datensatz(\"arrows3.csv\")\n",
    "    else:\n",
    "        data = Datensatz(\"arrows4.csv\")\n",
    "\n",
    "    data = data[data[\"Passe\"] == Passe]\n",
    "\n",
    "    if data[\"Typ Auflage\"].max() == 122:\n",
    "        plot = data.plot.scatter(x=\"x\", y=\"y\", figsize=(3, 3), s=2, xlabel='Link-/Rechtsfehler', ylabel='Vertikale Fehler', colormap=\"Blues\", legend=True, xlim=(-280, 280), ylim=(-280, 280), zorder=6)\n",
    "\n",
    "        c11 = plt.Circle((0, 0), 61, alpha=0.5, color='yellow', zorder=5)         # 10 Punkte\n",
    "        c12 = plt.Circle((0, 0), 118, alpha=0.7, color='yellow', zorder=4)        # 9 Punkte\n",
    "        c13 = plt.Circle((0, 0), 162, alpha=0.3, color='red', zorder=3)           # 8 Punkte\n",
    "        c14 = plt.Circle((0, 0), 217, alpha=0.6, color='red', zorder=2)           # 7 Punkte\n",
    "        c15 = plt.Circle((0, 0), 268, alpha=1.0, color='lightblue', zorder=1)     # 6 Punkte\n",
    "\n",
    "        for l in [c11, c12, c13, c14, c15]:\n",
    "            plot.add_patch(l)\n",
    "        \n",
    "    elif data[\"Typ Auflage\"].max() == 40:\n",
    "        plot = data.plot.scatter(x=\"x\", y=\"y\", figsize=(3, 3), s=2, xlabel='Link-/Rechtsfehler', ylabel='Vertikale Fehler', colormap=\"Blues\", legend=True, xlim=(-140, 140), ylim=(-140, 140), zorder=8) \n",
    "\n",
    "        c31 = plt.Circle((0, 0), 21, alpha=0.5, color='yellow', zorder=7)     # 10 Punkte       \n",
    "        c32 = plt.Circle((0, 0), 41, alpha=0.7, color='yellow', zorder=6)     # 9 Punkte\n",
    "        c33 = plt.Circle((0, 0), 59, alpha=0.3, color='red', zorder=5)        # 8 Punkte\n",
    "        c34 = plt.Circle((0, 0), 73, alpha=0.6, color='red', zorder=4)        # 7 Punkte\n",
    "        c35 = plt.Circle((0, 0), 91, alpha=1.0, color='lightblue', zorder=3)  # 6 Punkte\n",
    "        c36 = plt.Circle((0, 0), 118, alpha=0.9, color='lightblue', zorder=2) # 5 Punkte\n",
    "        c37 = plt.Circle((0, 0), 137, alpha=0.8, color='black', zorder=1)     # 4 Punkte\n",
    "\n",
    "        for l in [c31, c32, c33, c34, c35, c36, c37]:\n",
    "            plot.add_patch(l)\n",
    "        \n",
    "    else:\n",
    "        print(\"Der Datensatz erhält keine Standardwerte für Typauflage\")\n",
    "    return plot\n",
    "\n",
    "\n",
    "interact(intgraf, Data=[1, 2, 3, 4], Passe=(1, 17, 1))\n"
   ]
  },
  {
   "cell_type": "markdown",
   "metadata": {
    "vscode": {
     "languageId": "python"
    }
   },
   "source": [
    "### &#11088; Mittelwert & Standardabweichung"
   ]
  },
  {
   "cell_type": "code",
   "execution_count": null,
   "metadata": {},
   "outputs": [],
   "source": [
    "def berechneMittelwerte(Datensatz):\n",
    "    xsum = 0\n",
    "    for i in Datensatz[\"x\"]:\n",
    "        xsum = xsum + i\n",
    "        xmw = xsum / len(Datensatz[\"x\"])\n",
    "  \n",
    "    ysum = 0\n",
    "    for i in Datensatz[\"y\"]:\n",
    "         ysum = ysum + i\n",
    "         ymw = ysum / len(Datensatz[\"y\"])\n",
    "\n",
    "    return xmw, ymw\n",
    "\n",
    "\n",
    "berechneMittelwerte(arrows1)"
   ]
  },
  {
   "cell_type": "code",
   "execution_count": null,
   "metadata": {},
   "outputs": [],
   "source": [
    "def berechneStandardabweichung(Datensatz):\n",
    "    xstd = Datensatz[\"x\"].std()\n",
    "    ystd = Datensatz[\"y\"].std()\n",
    "\n",
    "    return xstd, ystd\n",
    "\n",
    "berechneStandardabweichung(arrows1)"
   ]
  },
  {
   "cell_type": "code",
   "execution_count": null,
   "metadata": {},
   "outputs": [],
   "source": [
    "def Kennzahlen(Datensatz):\n",
    "    if Datensatz[\"Typ Auflage\"].max() == 122:\n",
    "        plot = Datensatz.plot.scatter(x=\"x\", y=\"y\", figsize=(4,3), s=5, xlabel='Link-/Rechtsfehler', ylabel='Vertikale Fehler', colormap=\"Blues\", legend=True, color= Datensatz[\"Passe\"], xlim=(-280, 280), ylim=(-280, 280), zorder=6)\n",
    "\n",
    "        c11 = plt.Circle((0, 0), 61, alpha=0.5, color='yellow', zorder=5)         # 10 Punkte\n",
    "        c12 = plt.Circle((0, 0), 118, alpha=0.7, color='yellow', zorder=4)        # 9 Punkte\n",
    "        c13 = plt.Circle((0, 0), 162, alpha=0.3, color='red', zorder=3)           # 8 Punkte\n",
    "        c14 = plt.Circle((0, 0), 217, alpha=0.6, color='red', zorder=2)           # 7 Punkte\n",
    "        c15 = plt.Circle((0, 0), 268, alpha=1.0, color='lightblue', zorder=1)     # 6 Punkte\n",
    "\n",
    "        for l in [c11, c12, c13, c14, c15]:\n",
    "            plot.add_patch(l)\n",
    "        \n",
    "        #Mittelwerte berechnen\n",
    "        xmw, ymw = berechneMittelwerte(Datensatz)\n",
    "        mwcircle = plt.Circle((xmw, ymw), 5, alpha = 0.9, color='blueviolet', zorder=8, label = \"Mittelwerte\")\n",
    "        plot.add_patch(mwcircle)    \n",
    "\n",
    "        #Standardabweichung berechnen\n",
    "        xstd, ystd = berechneStandardabweichung(Datensatz)\n",
    "        stdcircle = plt.Circle((xstd, ystd), 8, alpha = 0.9, color='green', zorder=8, label =\"Streuungen\")\n",
    "        plot.add_patch(stdcircle)\n",
    "\n",
    "        #Legende für Mittelwerte\n",
    "        handles, labels = plot.get_legend_handles_labels()\n",
    "        handles.append(mwcircle)\n",
    "        plot.legend(handles, labels, loc = \"upper right\", fontsize=7)\n",
    "\n",
    "        #Legende für Streuung\n",
    "        handles, labels = plot.get_legend_handles_labels()\n",
    "        handles.append(stdcircle)\n",
    "        plot.legend(handles, labels, loc = \"upper right\", fontsize=7)\n",
    "\n",
    "\n",
    "\n",
    "    elif Datensatz[\"Typ Auflage\"].max() == 40:\n",
    "        plot = Datensatz.plot.scatter(x=\"x\", y=\"y\", figsize=(4, 3), s=4, xlabel='Link-/Rechtsfehler', ylabel='Vertikale Fehler', colormap=\"Blues\", legend=True, color= Datensatz[\"Passe\"], xlim=(-140, 140), ylim=(-140, 140), zorder=8) \n",
    "\n",
    "        c31 = plt.Circle((0, 0), 21, alpha=0.5, color='yellow', zorder=7)     # 10 Punkte       \n",
    "        c32 = plt.Circle((0, 0), 41, alpha=0.7, color='yellow', zorder=6)     # 9 Punkte\n",
    "        c33 = plt.Circle((0, 0), 59, alpha=0.3, color='red', zorder=5)        # 8 Punkte\n",
    "        c34 = plt.Circle((0, 0), 73, alpha=0.6, color='red', zorder=4)        # 7 Punkte\n",
    "        c35 = plt.Circle((0, 0), 91, alpha=1.0, color='lightblue', zorder=3)  # 6 Punkte\n",
    "        c36 = plt.Circle((0, 0), 118, alpha=0.9, color='lightblue', zorder=2) # 5 Punkte\n",
    "        c37 = plt.Circle((0, 0), 137, alpha=0.8, color='black', zorder=1)     # 4 Punkte\n",
    "\n",
    "        for l in [c31, c32, c33, c34, c35, c36, c37]:\n",
    "            plot.add_patch(l)\n",
    "        \n",
    "        #Mittelwerte berechnen\n",
    "        xmw, ymw = berechneMittelwerte(Datensatz)\n",
    "        mwcircle = plt.Circle((xmw, ymw), 3, alpha = 0.9, color='blueviolet', zorder=8, label = \"Mittelwerte\")\n",
    "        plot.add_patch(mwcircle)\n",
    "\n",
    "        #Standardabweichung berechnen\n",
    "        xstd, ystd = berechneStandardabweichung(Datensatz)\n",
    "        stdcircle = plt.Circle((xstd, ystd), 8, alpha = 0.9, color='navy', zorder=8, label =\"Streuungen\")\n",
    "        plot.add_patch(stdcircle)\n",
    "\n",
    "        #Legende für Mittelwerte\n",
    "        handles, labels = plot.get_legend_handles_labels()\n",
    "        handles.append(mwcircle)\n",
    "        plot.legend(handles, labels, loc = \"upper right\", fontsize=7)\n",
    "\n",
    "        #Legende für Streuung\n",
    "        handles, labels = plot.get_legend_handles_labels()\n",
    "        handles.append(stdcircle)\n",
    "        plot.legend(handles, labels, loc = \"upper right\", fontsize=7)\n",
    "        \n",
    "\n",
    "    else:\n",
    "        print(\"Der Datensatz erhält keine Standardwerte für Typauflage\")\n",
    "\n",
    "\n",
    "    return plot, mwcircle, stdcircle\n"
   ]
  },
  {
   "cell_type": "code",
   "execution_count": null,
   "metadata": {},
   "outputs": [],
   "source": [
    "#Mittelwerte und Streuung erster Datensatz\n",
    "Kennzahlen(arrows1)"
   ]
  },
  {
   "cell_type": "code",
   "execution_count": null,
   "metadata": {},
   "outputs": [],
   "source": [
    "#Mittelwerte und Streuung zweiter Datensatz\n",
    "Kennzahlen(arrows2)"
   ]
  },
  {
   "cell_type": "code",
   "execution_count": null,
   "metadata": {},
   "outputs": [],
   "source": [
    "#Mittelwerte und Streuung dritter Datensatz\n",
    "Kennzahlen(arrows3)"
   ]
  },
  {
   "cell_type": "code",
   "execution_count": null,
   "metadata": {},
   "outputs": [],
   "source": [
    "#Mittelwerte und Streuung vierter Datensatz\n",
    "Kennzahlen(arrows4)"
   ]
  },
  {
   "cell_type": "markdown",
   "metadata": {},
   "source": [
    "### &#11088; Fehlerellipse"
   ]
  },
  {
   "cell_type": "code",
   "execution_count": null,
   "metadata": {},
   "outputs": [],
   "source": [
    "import numpy as np\n",
    "import matplotlib.pyplot as plt\n",
    "from matplotlib.patches import Ellipse\n",
    "import matplotlib.transforms as transforms\n"
   ]
  },
  {
   "cell_type": "code",
   "execution_count": 189,
   "metadata": {},
   "outputs": [],
   "source": [
    "def var(datensatz, variable):\n",
    "    mittelwert = datensatz[variable].mean()\n",
    "\n",
    "    sum = 0\n",
    "    liste = []\n",
    "\n",
    "    for i in datensatz[variable]:\n",
    "        liste.append((i - mittelwert)**2)\n",
    "    for i in liste:\n",
    "        sum = sum + i\n",
    "\n",
    "\n",
    "    varianz = (1/(datensatz[variable].count()-1))*sum\n",
    "\n",
    "    return varianz\n",
    "\n",
    "def covarianz (datensatz, var1, var2):\n",
    "    datensatzmenge = datensatz[var1].count()\n",
    "\n",
    "    mittelwert1 = datensatz[var1].mean()\n",
    "    mittelwert2 = datensatz[var2].mean()\n",
    "\n",
    "    sum1 = datensatz[var1]-mittelwert1\n",
    "    sum2 = datensatz[var2]-mittelwert2\n",
    "\n",
    "    multi = sum1*sum2\n",
    "\n",
    "    sum = 0 \n",
    "    for l in multi:\n",
    "        sum = sum + l\n",
    "\n",
    "    covarianz = (1/(datensatzmenge-1))*sum\n",
    "\n",
    "    return covarianz\n",
    "\n",
    "def Covarianzmatrix (var1, var2, covarianz):\n",
    "    A = Matrix([[var1, covarianz],\n",
    "                [covarianz, var2]])\n",
    "    return A"
   ]
  },
  {
   "cell_type": "code",
   "execution_count": 193,
   "metadata": {},
   "outputs": [
    {
     "data": {
      "text/plain": [
       "[(5620.336519727255, [(-0.8906198259814776, 0.45474863998556647)], 1),\n",
       " (9527.064306719018, [(-0.45474863998556647, -0.8906198259814776)], 1)]"
      ]
     },
     "execution_count": 193,
     "metadata": {},
     "output_type": "execute_result"
    }
   ],
   "source": [
    "var(arrows1, \"x\")\n",
    "covarianz(arrows1, \"x\", \"y\")\n",
    "\n",
    "Covarianzmatrix1 = Covarianzmatrix(var(arrows1, \"x\"), var(arrows1,\"y\"), covarianz(arrows1, \"x\", \"y\"))\n",
    "Covarianzmatrix1.eigenvectors_right()"
   ]
  },
  {
   "cell_type": "markdown",
   "metadata": {},
   "source": [
    "### &#11088; Winkelstreuung"
   ]
  },
  {
   "cell_type": "code",
   "execution_count": null,
   "metadata": {},
   "outputs": [],
   "source": [
    "import math\n",
    "\n",
    "def berechneWinkelstreuung(Datensatz):\n",
    "\n",
    "    #Distanz ermiteln zwischen den Mittelwerten und der Streuungen\n",
    "    xa, ya = berechneMittelwerte(Datensatz)\n",
    "    xb, yb = berechneStandardabweichung(Datensatz)\n",
    "\n",
    "    py = math.sqrt(xb**2 + yb**2)\n",
    "\n",
    "\n",
    "    #Winkelberechnung\n",
    "    if Datensatz[\"Distanz\"].max() == 70:\n",
    "        a = math.tan(math.pi / py) *180 / math.pi\n",
    "        return a\n",
    "    \n",
    "    elif Datensatz [\"Distanz\"].max() == 18:\n",
    "        a = math.tan(math.pi / py) *180 / math.pi\n",
    "        return a\n",
    "    \n",
    "\n",
    "\n",
    "\n"
   ]
  },
  {
   "cell_type": "code",
   "execution_count": null,
   "metadata": {},
   "outputs": [],
   "source": [
    "#Winkelstreuung des ersten Datensatzes\n",
    "berechneWinkelstreuung(arrows1)"
   ]
  },
  {
   "cell_type": "code",
   "execution_count": null,
   "metadata": {},
   "outputs": [],
   "source": [
    "#Winkelstreuung des zweiten Datensatzes\n",
    "berechneWinkelstreuung(arrows2)"
   ]
  },
  {
   "cell_type": "code",
   "execution_count": null,
   "metadata": {},
   "outputs": [],
   "source": [
    "#Winkelstreuung des dritten Datensatzes\n",
    "berechneWinkelstreuung(arrows3)"
   ]
  },
  {
   "cell_type": "code",
   "execution_count": null,
   "metadata": {},
   "outputs": [],
   "source": [
    "#Winkelstreuung des vierten Datensatzes\n",
    "berechneWinkelstreuung(arrows4)"
   ]
  }
 ],
 "metadata": {
  "kernelspec": {
   "display_name": "SageMath 10.2",
   "language": "sage",
   "name": "SageMath-10.2"
  },
  "language_info": {
   "codemirror_mode": {
    "name": "ipython",
    "version": 3
   },
   "file_extension": ".py",
   "mimetype": "text/x-python",
   "name": "python",
   "nbconvert_exporter": "python",
   "pygments_lexer": "ipython3",
   "version": "3.11.1"
  }
 },
 "nbformat": 4,
 "nbformat_minor": 2
}
