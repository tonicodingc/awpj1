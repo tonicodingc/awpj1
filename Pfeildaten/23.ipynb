{
 "cells": [
  {
   "cell_type": "code",
   "execution_count": 78,
   "metadata": {},
   "outputs": [],
   "source": [
    "import pandas as pd\n",
    "import numpy as np\n",
    "import matplotlib.pyplot as plt\n",
    "\n"
   ]
  },
  {
   "cell_type": "markdown",
   "metadata": {},
   "source": [
    "### &#11088; Visualisierung der Daten"
   ]
  },
  {
   "cell_type": "markdown",
   "metadata": {},
   "source": [
    "### &#11088; Funktionen für die Visualisierung und Plotting"
   ]
  },
  {
   "cell_type": "code",
   "execution_count": 79,
   "metadata": {},
   "outputs": [],
   "source": [
    "def Datensatz(CSVdatei):\n",
    "    data = pd.read_csv(CSVdatei, delimiter= \";\")\n",
    "    return data\n",
    "    "
   ]
  },
  {
   "cell_type": "markdown",
   "metadata": {},
   "source": [
    "**Ringe** \n",
    "\n",
    "Die Funktion Ringe macht es, dass ein Datensatz eingelesen wird und dann ein Pie Chart ausgibt, welcher anzeigt welcher Ring am öftesten getroffen wurde."
   ]
  },
  {
   "cell_type": "code",
   "execution_count": 80,
   "metadata": {},
   "outputs": [],
   "source": [
    "def Ringe(Datensatz):\n",
    "    try:\n",
    "        Ring= Datensatz[\"Ringe\"].value_counts()\n",
    "    except: \n",
    "        print (\"Dataframe ist kein Arrow Dataframe oder hat keine Spalte namens 'Ringe'\")\n",
    "    return Ring.plot.pie(figsize= (3,3), ylabel = \"Treffer\", xlabel = \"\",legend= True)"
   ]
  },
  {
   "cell_type": "markdown",
   "metadata": {},
   "source": [
    "**Zielscheibe**\n",
    "\n",
    "Die Funktion Zielscheibe macht es, dass ein Datensatz eingelesen wird und dann ein Scatterplot erstellt wird. \n",
    "Das besondere an der Funktion ist, dass der Plot auch anzeigt wo genau der Pfeil, in der Zielscheibe getroffen hat."
   ]
  },
  {
   "cell_type": "code",
   "execution_count": 81,
   "metadata": {},
   "outputs": [],
   "source": [
    "def Zielscheibe (Datensatz):\n",
    "        if Datensatz[\"Typ Auflage\"].max() == 122:\n",
    "\n",
    "            Plot = Datensatz.plot.scatter(x = \"x\", y = \"y\", figsize= (4, 3), s= 1, xlabel='Link-/Rechtsfehler', ylabel='Vertikale Fehler', colormap= \"Reds\", legend = True, color= Datensatz[\"Passe\"], xlim= (-280,280), ylim= (-280,280)) \n",
    "\n",
    "            c11 = plt.Circle((0,0), 61, fill = False, color = 'yellow')           # Hier werden die Kreise erstellt, welche später dann in add_patch an den Plot eingesetzt werden  \n",
    "            c12 = plt.Circle((0,0), 118, fill = False, color = 'red')\n",
    "            c13 = plt.Circle((0,0), 162, fill = False, color = 'lightblue')\n",
    "            c14 = plt.Circle((0,0), 217, fill = False, color = 'black')\n",
    "            c15 = plt.Circle((0,0), 268, fill = False, color = 'black')\n",
    "\n",
    "            for l in [c11, c12, c13, c14, c15]:\n",
    "                Plot.add_patch(l)\n",
    "        \n",
    "        elif Datensatz[\"Typ Auflage\"].max() == 40:\n",
    "\n",
    "            Plot= Datensatz.plot.scatter(x = \"x\", y = \"y\", figsize= (4, 3), s= 4,xlabel='Link-/Rechtsfehler', ylabel='Vertikale Fehler', colormap= \"Reds\", legend = True, color= Datensatz[\"Passe\"], xlim= (-140,140), ylim= (-140,140)) \n",
    "\n",
    "            # Alternative wenn die Auflage kleiner ist\n",
    "\n",
    "            c31 = plt.Circle((0,0), 21, fill = False, color = 'yellow')     # 10       \n",
    "            c32 = plt.Circle((0,0), 41, fill = False, color = 'red')        # 9\n",
    "            c33 = plt.Circle((0,0), 59, fill = False, color = 'lightblue')  # 8\n",
    "            c34 = plt.Circle((0,0), 73, fill = False, color = 'black')      # 7\n",
    "            c35 = plt.Circle((0,0), 91, fill = False, color = 'black')      # 6\n",
    "            c36 = plt.Circle((0,0), 118, fill = False, color = 'black')     # 5\n",
    "            c37 = plt.Circle((0,0), 137, fill = False, color = 'black')     # 4\n",
    "\n",
    "            for l in [c31, c32, c33, c34, c35, c36, c37]:\n",
    "                Plot.add_patch(l)\n",
    "        \n",
    "        else: print (\"Der Datensatz erhält keine Standardwerte für Typauflage\")\n",
    "        return Plot\n"
   ]
  },
  {
   "cell_type": "markdown",
   "metadata": {},
   "source": [
    "**Treffer vergleiche zur Passe**\n",
    "\n",
    "Soll zeigen ob es eine Rolle spiel wie lange man schon spielt. Das macht die Funktion indem Sie Passe und Treffer in mehrere Graphen steckt kommt drauf an wie viele spiele man schon gespielt hat.\n",
    "Dafür braucht er aber erst mal die durchschnittlichen Werte in einer Passe, da ansosnten der Graph hoch und runterspringen würde, da zum Beispiel in der ersten Passe 10 Punkte, aber auch 6 Punkte erzielt werden können. Das würde dazu führen, dass dort eine Linie zwischen 6 bis 10 auf der X-Koordinate: 1 entstehen würde.\n",
    "\n",
    "Um dieses Problem zu lösen haben wir noch eine Funktion eingebaucht namen **averagePointinPasse()**"
   ]
  },
  {
   "cell_type": "code",
   "execution_count": 82,
   "metadata": {},
   "outputs": [],
   "source": [
    "def averagePointinPasse(arrows):\n",
    "\n",
    "    averageliste= []\n",
    "    for l in range(1,20):\n",
    "        average = arrows[arrows[\"Passe\"] == l]\n",
    "\n",
    "        sum = 0\n",
    "        for i in average[\"Ringe\"]:\n",
    "            sum = sum + i\n",
    "\n",
    "        average = sum/average[\"Ringe\"].count()\n",
    "        averageliste.append(average)\n",
    "    series= pd.Series(averageliste)\n",
    "    \n",
    "    return pd.DataFrame({\"Ringe\": series.values})\n",
    "        \n"
   ]
  },
  {
   "cell_type": "code",
   "execution_count": 83,
   "metadata": {},
   "outputs": [],
   "source": [
    "def Trefferpassequote(a1= 0, a2= 0 , a3= 0 , a4= 0 ):\n",
    "\n",
    "        Ringe1 = a1[\"Ringe\"]\n",
    "\n",
    "        Ringe2 = a2[\"Ringe\"]\n",
    "\n",
    "        Ringe3 = a3[\"Ringe\"]\n",
    "\n",
    "        Ringe4 = a4[\"Ringe\"]\n",
    "\n",
    "        fig, (ax, ax2, ax3, ax4) = plt.subplots(nrows=4, figsize = (5,5), sharex= True,sharey= True)\n",
    "\n",
    "        ax.plot(a1, color = \"Black\")\n",
    "        ax2.plot(a2)\n",
    "        ax3.plot(a3)\n",
    "        ax4.plot(a4)\n",
    "        ax4.set_xlabel(\"Passe\")\n",
    "        ax3.set_ylabel(\"durchschnittliche\")\n",
    "        ax2.set_ylabel(\"Punkte\")\n",
    "       \n"
   ]
  },
  {
   "cell_type": "markdown",
   "metadata": {},
   "source": [
    "# &#11088; Einlesen der Daten und Plots"
   ]
  },
  {
   "cell_type": "code",
   "execution_count": 84,
   "metadata": {},
   "outputs": [],
   "source": [
    "arrows1 = Datensatz(\"arrows1.csv\")\n",
    "arrows2 = Datensatz(\"arrows2.csv\")\n",
    "arrows3 = Datensatz(\"arrows3.csv\")\n",
    "arrows4 = Datensatz(\"arrows4.csv\")"
   ]
  },
  {
   "cell_type": "markdown",
   "metadata": {},
   "source": [
    "&#11088; Einsicht der Plots"
   ]
  },
  {
   "cell_type": "code",
   "execution_count": null,
   "metadata": {},
   "outputs": [],
   "source": [
    "#Vergleich erster Datensatz\n",
    "Ringe(arrows1)\n",
    "Zielscheibe(arrows1)"
   ]
  },
  {
   "cell_type": "code",
   "execution_count": null,
   "metadata": {},
   "outputs": [],
   "source": [
    "#Vergleich zweiter Datensatz\n",
    "Ringe(arrows2)\n",
    "Zielscheibe(arrows2)"
   ]
  },
  {
   "cell_type": "code",
   "execution_count": null,
   "metadata": {},
   "outputs": [],
   "source": [
    "#Vergleich dritter Datensatz\n",
    "Ringe(arrows3)\n",
    "Zielscheibe(arrows3)"
   ]
  },
  {
   "cell_type": "code",
   "execution_count": null,
   "metadata": {},
   "outputs": [],
   "source": [
    "#Vergleich vierter Datensatz\n",
    "Ringe(arrows4)\n",
    "Zielscheibe(arrows4)"
   ]
  },
  {
   "cell_type": "code",
   "execution_count": 86,
   "metadata": {},
   "outputs": [
    {
     "name": "stderr",
     "output_type": "stream",
     "text": [
      "C:\\Users\\gamer\\AppData\\Local\\Temp\\ipykernel_2828\\4062857918.py:11: RuntimeWarning: invalid value encountered in scalar divide\n",
      "  average = sum/average[\"Ringe\"].count()\n"
     ]
    },
    {
     "data": {
      "image/png": "[encoded data removed]",
      "text/plain": [
       "<Figure size 500x500 with 4 Axes>"
      ]
     },
     "metadata": {},
     "output_type": "display_data"
    }
   ],
   "source": [
    "Trefferpassequote(averagePointinPasse(arrows1),averagePointinPasse(arrows2),averagePointinPasse(arrows3),averagePointinPasse(arrows4))"
   ]
  },
  {
   "cell_type": "markdown",
   "metadata": {},
   "source": [
    "### &#11088; Interaktive Grafik"
   ]
  },
  {
   "cell_type": "code",
   "execution_count": null,
   "metadata": {},
   "outputs": [],
   "source": [
    "from ipywidgets import interact\n",
    "import ipywidgets as widgets"
   ]
  },
  {
   "cell_type": "code",
   "execution_count": null,
   "metadata": {},
   "outputs": [],
   "source": [
    "def interaktiongrafik (Daten, Passe):"
   ]
  }
 ],
 "metadata": {
  "kernelspec": {
   "display_name": "Python 3",
   "language": "python",
   "name": "python3"
  },
  "language_info": {
   "codemirror_mode": {
    "name": "ipython",
    "version": 3
   },
   "file_extension": ".py",
   "mimetype": "text/x-python",
   "name": "python",
   "nbconvert_exporter": "python",
   "pygments_lexer": "ipython3",
   "version": "3.12.3"
  }
 },
 "nbformat": 4,
 "nbformat_minor": 2
}
