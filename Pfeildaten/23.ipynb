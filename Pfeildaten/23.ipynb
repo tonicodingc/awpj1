{
 "cells": [
  {
   "cell_type": "code",
   "execution_count": 1,
   "metadata": {},
   "outputs": [],
   "source": [
    "import pandas as pd\n",
    "import numpy as np\n",
    "import matplotlib.pyplot as plt\n",
    "\n"
   ]
  },
  {
   "cell_type": "markdown",
   "metadata": {},
   "source": [
    "### &#11088; Visualisierung der Daten"
   ]
  },
  {
   "cell_type": "markdown",
   "metadata": {},
   "source": [
    "### &#11088; Funktionen für die Visualisierung und Plotting"
   ]
  },
  {
   "cell_type": "code",
   "execution_count": 25,
   "metadata": {},
   "outputs": [],
   "source": [
    "def Datensatz(CSVdatei):\n",
    "    data = pd.read_csv(CSVdatei, delimiter= \";\")\n",
    "    return data\n",
    "    "
   ]
  },
  {
   "cell_type": "markdown",
   "metadata": {},
   "source": [
    "**Ringe** \n",
    "\n",
    "Die Funktion Ringe macht es, dass ein Datensatz eingelesen wird und dann ein Pie Chart ausgibt, welcher anzeigt welcher Ring am öftesten getroffen wurde."
   ]
  },
  {
   "cell_type": "code",
   "execution_count": 9,
   "metadata": {},
   "outputs": [],
   "source": [
    "def Ringe(Datensatz):\n",
    "    try:\n",
    "        Ring= Datensatz[\"Ringe\"].value_counts()\n",
    "    except: \n",
    "        print (\"Dataframe ist kein Arrow Dataframe oder hat keine Spalte namens 'Ringe'\")\n",
    "    return Ring.plot.pie(figsize= (4,4))"
   ]
  },
  {
   "cell_type": "markdown",
   "metadata": {},
   "source": [
    "**Zielscheibe**\n",
    "\n",
    "Die Funktion Zielscheibe macht es, dass ein Datensatz eingelesen wird und dann ein Scatterplot erstellt wird. \n",
    "Das besondere an der Funktion ist, dass der Plot auch anzeigt wo genau der Pfeil, in der Zielscheibe getroffen hat."
   ]
  },
  {
   "cell_type": "code",
   "execution_count": 23,
   "metadata": {},
   "outputs": [],
   "source": [
    "def Zielscheibe (Datensatz):\n",
    "        if Datensatz[\"Typ Auflage\"].max() == 122:\n",
    "\n",
    "            Datensatz = Datensatz.plot.scatter(x = \"x\", y = \"y\", figsize= (4, 4), s= 1) \n",
    "            Datensatz.set_xlim(-280, 280)\n",
    "            Datensatz.set_ylim(-280, 280)\n",
    "\n",
    "            c11 = plt.Circle((0,0), 61, fill = False, color = 'yellow')             \n",
    "            c12 = plt.Circle((0,0), 118, fill = False, color = 'red')\n",
    "            c13 = plt.Circle((0,0), 162, fill = False, color = 'lightblue')\n",
    "            c14 = plt.Circle((0,0), 217, fill = False, color = 'black')\n",
    "            c15 = plt.Circle((0,0), 268, fill = False, color = 'black')\n",
    "\n",
    "            for l in [c11, c12, c13, c14, c15]:\n",
    "                Datensatz.add_patch(l)\n",
    "        \n",
    "        elif Datensatz[\"Typ Auflage\"].max() == 40:\n",
    "\n",
    "            Datensatz= Datensatz.plot.scatter(x = \"x\", y = \"y\", figsize= (4, 4), s= 4) \n",
    "            Datensatz.set_xlim(-140, 140)\n",
    "            Datensatz.set_ylim(-140, 140)\n",
    "\n",
    "            c31 = plt.Circle((0,0), 21, fill = False, color = 'yellow')     # 10       \n",
    "            c32 = plt.Circle((0,0), 41, fill = False, color = 'red')        # 9\n",
    "            c33 = plt.Circle((0,0), 59, fill = False, color = 'lightblue')  # 8\n",
    "            c34 = plt.Circle((0,0), 73, fill = False, color = 'black')      # 7\n",
    "            c35 = plt.Circle((0,0), 91, fill = False, color = 'black')      # 6\n",
    "            c36 = plt.Circle((0,0), 118, fill = False, color = 'black')     # 5\n",
    "            c37 = plt.Circle((0,0), 137, fill = False, color = 'black')     # 4\n",
    "\n",
    "            for l in [c31, c32, c33, c34, c35, c36, c37]:\n",
    "                Datensatz.add_patch(l)\n",
    "        \n",
    "        else: print (\"Der Datensatz erhält keine Standardwerte für Typauflage\")\n",
    "        return Datensatz\n"
   ]
  },
  {
   "cell_type": "code",
   "execution_count": 30,
   "metadata": {},
   "outputs": [
    {
     "data": {
      "text/plain": [
       "<Axes: xlabel='x', ylabel='count'>"
      ]
     },
     "execution_count": 30,
     "metadata": {},
     "output_type": "execute_result"
    },
    {
     "data": {
      "image/png": "[encoded data removed]",
      "text/plain": [
       "<Figure size 400x400 with 1 Axes>"
      ]
     },
     "metadata": {},
     "output_type": "display_data"
    }
   ],
   "source": [
    "arrows1 = Datensatz(\"arrows1.csv\")\n",
    "Scheibearrows1 = Zielscheibe(arrows1)\n",
    "Ringearrows1= Ringe(arrows1)\n",
    "\n"
   ]
  },
  {
   "cell_type": "markdown",
   "metadata": {},
   "source": [
    "### &#11088; Interaktive Grafik"
   ]
  },
  {
   "cell_type": "code",
   "execution_count": null,
   "metadata": {},
   "outputs": [],
   "source": []
  }
 ],
 "metadata": {
  "kernelspec": {
   "display_name": "Python 3",
   "language": "python",
   "name": "python3"
  },
  "language_info": {
   "codemirror_mode": {
    "name": "ipython",
    "version": 3
   },
   "file_extension": ".py",
   "mimetype": "text/x-python",
   "name": "python",
   "nbconvert_exporter": "python",
   "pygments_lexer": "ipython3",
   "version": "3.12.3"
  }
 },
 "nbformat": 4,
 "nbformat_minor": 2
}
