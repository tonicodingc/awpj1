{
 "cells": [
  {
   "cell_type": "code",
   "execution_count": null,
   "metadata": {},
   "outputs": [],
   "source": [
    "import pandas as pd\n",
    "import numpy as np\n",
    "\n"
   ]
  },
  {
   "cell_type": "code",
   "execution_count": null,
   "metadata": {},
   "outputs": [],
   "source": [
    "arrow1 = pd.read_csv(\"arrows1.csv\", delimiter= ';')\n",
    "arrow2 = pd.read_csv(\"arrows2.csv\", delimiter= ';')\n",
    "arrow3 = pd.read_csv(\"arrows3.csv\", delimiter= ';')\n",
    "arrow4 = pd.read_csv(\"arrows4.csv\", delimiter= ';')\n",
    "\n",
    "arrow4"
   ]
  },
  {
   "cell_type": "code",
   "execution_count": null,
   "metadata": {},
   "outputs": [],
   "source": [
    "dates = pd.date_range(\"20130101\", periods=6)\n"
   ]
  },
  {
   "cell_type": "code",
   "execution_count": null,
   "metadata": {},
   "outputs": [],
   "source": [
    "import pandas as pd\n",
    "import numpy as np\n",
    "import matplotlib.pyplot as plt\n",
    "\n",
    "\n",
    "\n",
    "arrow1 = pd.read_csv(\"arrows1.csv\", delimiter=';')\n",
    "        \n",
    "print(arrow1.columns)\n",
    "\n",
    "#arrow1.sort_values(by=\"Ringe\")\n",
    "#arrow1.loc[0 : 10, [\"Distanz\", \"Typ Auflage\"]] #getting\n",
    "#arrow1.iloc[15]\n",
    "#arrow1.iloc[15]\n",
    "arrow1 [arrow1[\"Ringe\"] > 9]\n",
    "#arrow1 [arrow1 > 0]\n",
    "\n",
    "#arrow1.loc[[0],\"Distanz\"] = 80\n",
    "\n",
    "#arrow1.loc[:, \"Distanz\"] = np.array([5]*len(arrow1))\n",
    "#arrow1.loc[:, \"Distanz\"]\n",
    "\n",
    "#a1 = arrow1[arrow1 > 0]\n",
    "#a1.dropna(how=\"any\")\n",
    "#a1.fillna(value = 5)\n",
    "#pd.isna(a1)\n",
    "\n",
    "#arrow1.mean()\n",
    "#arrow1.mean(axis=1)\n",
    "#s = pd.Series([3,4,5,np.nan,6,8], index=dates).shift(2)\n",
    "\n",
    "#arrow1.transform(lambda x: x *2)\n",
    "\n",
    "#arrow1[\"Ringe\"].value_counts()\n",
    "\n",
    "#arrow1 = arrow1[\"Ringe\"].value_counts()\n",
    "#a1pie= arrow1.plot.pie(figsize=(6,6));\n",
    "\n",
    "#a1pie\n"
   ]
  },
  {
   "cell_type": "code",
   "execution_count": null,
   "metadata": {},
   "outputs": [],
   "source": [
    "s1 = pd.Series([1, 2, 3, 4, 5, 6], index=pd.date_range(\"20130102\", periods=6))\n",
    "s1"
   ]
  }
 ],
 "metadata": {
  "kernelspec": {
   "display_name": "SageMath 10.2",
   "language": "sage",
   "name": "SageMath-10.2"
  },
  "language_info": {
   "codemirror_mode": {
    "name": "ipython",
    "version": 3
   },
   "file_extension": ".py",
   "mimetype": "text/x-python",
   "name": "python",
   "nbconvert_exporter": "python",
   "pygments_lexer": "ipython3",
   "version": "3.11.1"
  }
 },
 "nbformat": 4,
 "nbformat_minor": 2
}
