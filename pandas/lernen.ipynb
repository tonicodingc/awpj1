{
 "cells": [
  {
   "cell_type": "code",
   "execution_count": null,
   "metadata": {},
   "outputs": [],
   "source": [
    "Pandas\n",
    "\n",
    "wichtige Bibliotheken \n",
    "\n",
    "import pandas as pd\n",
    "import numpy as np\n",
    "import matplotlib.pyplot as plt\n",
    "\n",
    ".read_csv(\"Dateiname\", delimiter = \",\")\n",
    ".Dataframe(\n",
    "    {\n",
    "        #erstellen einer Dicitionary wo Keys Columns sind und Values die Werte der Columns\n",
    "    }\n",
    ")\n",
    "\n",
    ".columns #zeigt die Spalten\n",
    ".dtypes #zeigt die Datentypen der Spalten\n",
    ".to_numpy #Wechsel auf ein Array\n",
    ".describe() #Schnelle Auswertung der Tabelle\n",
    ".T # Transpondierende der Datensatzes\n",
    ".sort_values(by=\"Spalte\") #automatische Sortierung\n",
    "data[0:3] # sliced die Reihen\n",
    ".loc[\"startposition\":\"endposition\", [\"spalte\", \"Spalte\"]] #zeigt die Reihen und dann die Spalten, welche angezeigt werden sollen\n",
    "data[data[\"column\"] > 0] #zeigt nur die werte an, in welcher der Wert auch mehr als 0 annimmt\n",
    ".merge(dataset1, dataset2, on=\"key\")\n",
    ".value_counts()\n"
   ]
  }
 ],
 "metadata": {
  "language_info": {
   "name": "python"
  }
 },
 "nbformat": 4,
 "nbformat_minor": 2
}
